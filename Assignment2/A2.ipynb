{
 "cells": [
  {
   "cell_type": "code",
   "execution_count": 121,
   "id": "d7944125-5d03-41db-bec1-ce55e912113a",
   "metadata": {},
   "outputs": [
    {
     "name": "stdout",
     "output_type": "stream",
     "text": [
      "Task 1: 9999 records with 500 attributes excluding User and Query\n",
      "Number of rows before removing duplicates: 9999\n",
      "Number of rows after removing duplicates: 9816\n"
     ]
    }
   ],
   "source": [
    "import numpy as np\n",
    "import pandas as pd\n",
    "import pyfpgrowth \n",
    "\n",
    "\n",
    "df = pd.read_csv('www.csv', sep='\\t') \n",
    "print(f\"Task 1: {df.shape[0]} records with {df.shape[1] - 2} attributes excluding User and Query\")\n",
    "\n",
    "print('Number of rows before removing duplicates:', len(df)) \n",
    "df = df.drop_duplicates('Query', keep='first') \n",
    "df.reset_index(drop=True, inplace=True) \n",
    "print('Number of rows after removing duplicates:', len(df)) "
   ]
  },
  {
   "cell_type": "code",
   "execution_count": 122,
   "id": "0c0b232d-f779-4586-b4af-3b6b6b8ea63b",
   "metadata": {},
   "outputs": [
    {
     "name": "stdout",
     "output_type": "stream",
     "text": [
      "Task 2: The most frequent keyword is ('of',) occuring in 955 queries \n",
      "Task 2: a support count of 100 records correspond to a support value of 0.010187449062754686\n",
      "Task 2: with this min-support, we find 28 frequent itemsets the max size of which is 2\n"
     ]
    }
   ],
   "source": [
    "# Convert the Query column to a list of lists \n",
    "associations = df['Query'].apply(lambda x: x.split()).tolist()\n",
    "num_records = len(associations) # list of lists\n",
    "patterns = pyfpgrowth.find_frequent_patterns(associations,100) #itemsets w/ min-support 100\n",
    "\n",
    "print(f\"Task 2: The most frequent keyword is {max(patterns, key=patterns.get)}\", \n",
    "      f\"occuring in {max(patterns.values())} queries \")\n",
    "\n",
    "min_support = 100 / num_records \n",
    "print(f\"Task 2: a support count of 100 records correspond to a support value of {min_support}\") \n",
    "\n",
    "print(f\"Task 2: with this min-support, we find {len(patterns)} frequent itemsets\", \n",
    "     f\"the max size of which is {max(len(i) for i in patterns)}\")"
   ]
  },
  {
   "cell_type": "code",
   "execution_count": 123,
   "id": "e678b618-8783-42b6-924d-dfa35c5b8a53",
   "metadata": {
    "scrolled": true
   },
   "outputs": [
    {
     "name": "stdout",
     "output_type": "stream",
     "text": [
      "Task 3 : Min-support values: [0.001, 0.004, 0.007, 0.01]\n",
      "Task 3 : Number of frequent itemsets: [2281, 156, 57, 29]\n",
      "Task 3 : Max size of frequent itemset: [10, 4, 2, 2]\n",
      "Task 3: Choosing min-support to be 0.004 we discover 156 frequent itemsets\n"
     ]
    }
   ],
   "source": [
    "min_supports = [0.001, 0.004, 0.007, 0.010]\n",
    "num_itemsets = []\n",
    "maxsize_itemsets = []\n",
    "for min_support in min_supports:\n",
    "    sigma = num_records * min_support\n",
    "    patterns = pyfpgrowth.find_frequent_patterns(associations, sigma) \n",
    "    num_itemsets.append(len(patterns))\n",
    "    maxsize_itemsets.append(max(len(i) for i in patterns))\n",
    "print(f\"Task 3 : Min-support values: {min_supports}\\n\"\n",
    "      f\"Task 3 : Number of frequent itemsets: {num_itemsets}\\n\"\n",
    "      f\"Task 3 : Max size of frequent itemset: {maxsize_itemsets}\\n\"\n",
    "      \"Task 3: Choosing min-support to be 0.004 we discover 156 frequent itemsets\")\n"
   ]
  },
  {
   "cell_type": "code",
   "execution_count": 124,
   "id": "6aee3d4e-9036-4f9f-9ca0-fc5889ed5e65",
   "metadata": {
    "scrolled": true
   },
   "outputs": [
    {
     "name": "stdout",
     "output_type": "stream",
     "text": [
      "Task 4: Number of rules with min-confidence 0.8: 14\n",
      "Task 4: The rule 'york' -> 'new' has higher confidence than 'new' -> 'york', \n",
      "\tthis is because the word 'york' is almost always accompanied by 'new',\n",
      "\twhile the word 'new' more commonly appears alone.\n",
      "\n",
      "========== RULES ===========\n",
      "('estate',) : (('real',), 0.9166666666666666)\n",
      "('york',) : (('new',), 0.9139784946236559)\n",
      "('sale',) : (('for',), 0.8333333333333334)\n",
      "('i', 'to') : (('the',), 2.309090909090909)\n",
      "('the', 'to') : (('i',), 1.5301204819277108)\n",
      "('i', 'the', 'the') : (('to',), 3.106382978723404)\n",
      "('i', 'the', 'to') : ((), 1.3804347826086956)\n",
      "('the', 'the', 'to') : (('i',), 2.4745762711864407)\n",
      "('a', 'how') : (('to',), 0.9230769230769231)\n",
      "('in', 'to') : (('the',), 1.0681818181818181)\n",
      "('in', 'of', 'the') : ((), 0.8679245283018868)\n",
      "('in', 'the', 'the') : (('of',), 1.0)\n",
      "('of', 'the', 'the') : (('in',), 0.92)\n",
      "('in', 'of') : (('the',), 0.828125)\n",
      "===========================\n"
     ]
    }
   ],
   "source": [
    "### TASK 4\n",
    "\n",
    "min_support = 0.004\n",
    "support_count = min_support*num_records\n",
    "confidence = 0.8 \n",
    "\n",
    "patterns = pyfpgrowth.find_frequent_patterns(associations, support_count) \n",
    "rules = pyfpgrowth.generate_association_rules(patterns, confidence) \n",
    "\n",
    "print(f\"Task 4: Number of rules with min-confidence 0.8: {len(rules)}\\n\"\n",
    "        \"Task 4: The rule 'york' -> 'new' has higher confidence than 'new' -> 'york', \\n\"\n",
    "        \"\\tthis is because the word 'york' is almost always accompanied by 'new',\\n\"\n",
    "        \"\\twhile the word 'new' more commonly appears alone.\\n\")\n",
    "\n",
    "print(\"========== RULES ===========\")\n",
    "for k, v in rules.items():\n",
    "    print(f\"{k} : {v}\")\n",
    "print(\"===========================\")"
   ]
  },
  {
   "cell_type": "code",
   "execution_count": 125,
   "id": "01fb5c76-9fcb-4b89-9e1d-9717fb0bb287",
   "metadata": {},
   "outputs": [
    {
     "name": "stdout",
     "output_type": "stream",
     "text": [
      "Task 5 : Minimum confidence values: [0.1, 0.3, 0.5, 0.7, 0.9]\n",
      "Task 5 : Number of rules: [31, 26, 18, 15, 11]\n"
     ]
    }
   ],
   "source": [
    "min_confidence_range = [0.1, 0.3, 0.5, 0.7, 0.9]  \n",
    "num_rules = []\n",
    "\n",
    "for min_conf in min_confidence_range: \n",
    "    rules = pyfpgrowth.generate_association_rules(patterns, min_conf) \n",
    "    num_rules.append(len(rules))\n",
    "\n",
    "print(f\"Task 5 : Minimum confidence values: {min_confidence_range}\\n\"\n",
    "      f\"Task 5 : Number of rules: {num_rules}\")"
   ]
  },
  {
   "cell_type": "code",
   "execution_count": 200,
   "id": "79340d04-e50b-4cb0-8529-7fdbecec643c",
   "metadata": {},
   "outputs": [
    {
     "name": "stdout",
     "output_type": "stream",
     "text": [
      "into : (('the',), 1.1)\n",
      "chamber : (('of',), 0.9090909090909091)\n",
      "humane : (('society',), 1.0)\n",
      "idol : (('american',), 0.9166666666666666)\n",
      "many : (('how',), 1.0)\n",
      "african : (('american',), 0.8333333333333334)\n",
      "dc : (('washington',), 0.9166666666666666)\n",
      "force : (('air',), 0.8333333333333334)\n",
      "commerce : (('of',), 0.9230769230769231)\n",
      "sims : (('2',), 0.9230769230769231)\n",
      "diego : (('san',), 1.0)\n",
      "april : (('2006',), 0.7142857142857143)\n",
      "t : (('the',), 0.6666666666666666)\n",
      "listen : (('to',), 0.8)\n",
      "just : (('to',), 0.8)\n",
      "antonio : (('san',), 0.8666666666666667)\n",
      "way : (('the',), 0.9333333333333333)\n",
      "like : (('the',), 0.8666666666666667)\n",
      "last : (('the',), 0.6470588235294118)\n",
      "social : (('security',), 0.5555555555555556)\n",
      "cheat : (('codes',), 0.6666666666666666)\n",
      "middle : (('school',), 0.6666666666666666)\n",
      "if : (('you',), 0.5789473684210527)\n",
      "town : (('of',), 0.5263157894736842)\n",
      "dept : (('of',), 0.5)\n",
      ". : (('com',), 0.5)\n",
      "orange : (('county',), 0.5)\n",
      "space : (('my',), 0.6666666666666666)\n",
      "over : (('the',), 0.6190476190476191)\n",
      "go : (('to',), 0.6190476190476191)\n",
      "louis : (('st.',), 0.5)\n",
      "yellow : (('pages',), 0.6086956521739131)\n",
      "angeles : (('los',), 0.875)\n",
      "los : (('angeles',), 0.84)\n",
      "bad : (('credit',), 0.5)\n",
      "cell : (('phone',), 0.52)\n",
      "district : (('school',), 0.5555555555555556)\n",
      "america : (('of',), 0.5172413793103449)\n",
      "rent : (('for',), 0.5)\n",
      "union : (('credit',), 0.5641025641025641)\n",
      "las : (('vegas',), 0.8444444444444444)\n",
      "jersey : (('new',), 0.9047619047619048)\n",
      "picture : (('of',), 0.6666666666666666)\n",
      "map : (('of',), 0.5111111111111111)\n",
      "department : (('of',), 0.6666666666666666)\n",
      "estate : (('real',), 0.9166666666666666)\n",
      "real : (('estate',), 0.7857142857142857)\n",
      "of : (('and', 'i', 'the', 'to', 'your'), 0.7560209424083769)\n",
      "sale : (('for',), 0.8333333333333334)\n"
     ]
    }
   ],
   "source": [
    "####### TASK 6 ###################\n",
    "\n",
    "min_support = 0.001\n",
    "min_conf = 0.5\n",
    "\n",
    "#### do not touch!\n",
    "sigma = num_records * min_support\n",
    "patterns = pyfpgrowth.find_frequent_patterns(associations, sigma) \n",
    "rules = pyfpgrowth.generate_association_rules(patterns, min_conf) \n",
    "support = {key: value / len(df) for key, value in patterns.items()} \n",
    "\n",
    "\n",
    "## OPTIONAL: filter to only keep entries where key is a single word\n",
    "support = {k[0]:v for k, v in support.items() if len(k) == 1 }\n",
    "rules = {k[0]:v for k, v in rules.items() if len(k) == 1 }\n",
    "\n",
    "### print filtered rules\n",
    "for k, v in rules.items():\n",
    "    print(f\"{k} : {v}\")"
   ]
  },
  {
   "cell_type": "code",
   "execution_count": 210,
   "id": "c074a9c8-2db4-4fe7-970c-8d78f5b50f71",
   "metadata": {},
   "outputs": [
    {
     "name": "stdout",
     "output_type": "stream",
     "text": [
      "Keyword: 'union'\n",
      "Support: 0.003973105134474328\n",
      "Rule: '['credit']' with confidence 0.5641025641025641\n",
      "Lift of 'credit': 89.31017369727047\n",
      "\n",
      "Keyword: 'april'\n",
      "Support: 0.0014262428687856561\n",
      "Rule: '['2006']' with confidence 0.7142857142857143\n",
      "Lift of '2006': 80.59113300492612\n",
      "\n",
      "Keyword: 'town'\n",
      "Support: 0.0019356153219233904\n",
      "Rule: '['of']' with confidence 0.5263157894736842\n",
      "Lift of 'of': 5.409754753375585\n",
      "\n"
     ]
    }
   ],
   "source": [
    "#### Unexpected results:\n",
    "        #f\"{rules[keyword][0]}\\n\"\n",
    "        #f\"{support}\\n\"\n",
    "keywords = ['union', 'april', 'town']\n",
    "for keyword in keywords:\n",
    "    if keyword in support and keyword in rules:\n",
    "        print(f\"Keyword: '{keyword}'\\n\"\n",
    "            f\"Support: {support[keyword]}\\n\"\n",
    "            f\"Rule: '{[w for w in rules[keyword][0]]}' with confidence {rules[keyword][1]}\\n\")\n",
    "        for i in range(len(rules[keyword][0])):\n",
    "            consequent = rules[keyword][0][i]\n",
    "            if consequent in support:\n",
    "                lift = rules[keyword][1] / support[consequent]\n",
    "                print(f\"Lift of '{consequent}': {lift}\\n\")\n",
    "            else:\n",
    "                print(f\"Support for '{consequent}' not found, unable to calculate lift\\n\")\n",
    "    else:\n",
    "        print(f\"Keyword: '{keyword}' not found among frequent patterns or rules\")"
   ]
  },
  {
   "cell_type": "code",
   "execution_count": 187,
   "id": "9f3aaf3c-611f-4954-b29d-ce5f7bebb8b8",
   "metadata": {},
   "outputs": [
    {
     "name": "stdout",
     "output_type": "stream",
     "text": [
      "Keyword: 'vegas'\n",
      "Support: 0.004278728606356968\n",
      "Rule: 'las' with confidence 0.9047619047619048\n",
      "Lift of 'las': 197.35873015873014\n",
      "Keyword: 'york'\n",
      "Support: 0.009474327628361858\n",
      "Rule: 'new' with confidence 0.9139784946236559\n",
      "Lift of 'new': 40.41267073525138\n",
      "Keyword: 'estate'\n",
      "Support: 0.006112469437652812\n",
      "Rule: 'real' with confidence 0.9166666666666666\n",
      "Lift of 'real': 128.54285714285714\n"
     ]
    }
   ],
   "source": [
    "#### Try a specific keyword:\n",
    "keywords = ['vegas', 'york', 'estate']\n",
    "\n",
    "for keyword in keywords:\n",
    "    if keyword in support and keyword in rules:\n",
    "        print(f\"Keyword: '{keyword}'\\n\"\n",
    "            f\"Support: {support[keyword]}\\n\"\n",
    "            f\"Rule: '{rules[keyword][0][0]}' with confidence {rules[keyword][1]}\\n\"\n",
    "            f\"Lift of '{rules[keyword][0][0]}': {rules[keyword][1]/support[rules[keyword][0][0]]}\")\n",
    "    else:\n",
    "        print(f\"Keyword: '{keyword}' not found among frequent patterns or rules\")"
   ]
  },
  {
   "cell_type": "code",
   "execution_count": null,
   "id": "4bb32bb1-a7ab-4a6d-b8f6-0dd9b4148590",
   "metadata": {},
   "outputs": [],
   "source": []
  }
 ],
 "metadata": {
  "kernelspec": {
   "display_name": "Python 3",
   "language": "python",
   "name": "python3"
  },
  "language_info": {
   "codemirror_mode": {
    "name": "ipython",
    "version": 3
   },
   "file_extension": ".py",
   "mimetype": "text/x-python",
   "name": "python",
   "nbconvert_exporter": "python",
   "pygments_lexer": "ipython3",
   "version": "3.12.3"
  }
 },
 "nbformat": 4,
 "nbformat_minor": 5
}
