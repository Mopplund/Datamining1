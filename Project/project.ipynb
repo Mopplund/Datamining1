{
 "cells": [
  {
   "cell_type": "code",
   "execution_count": null,
   "metadata": {},
   "outputs": [],
   "source": [
    "# Step 1: load fb_friends and bt_symmetric csv files\n",
    "# Step 2: Preprocess, drop the rows in bt_symmetric containing:\n",
    "#    * Empty scans are marked with user B = -1 and RSSI = 0\n",
    "#    * Scans of devices outside of the experiment are marked with user B = -2. All non-experiment devices are given the same ID.\n",
    "# Step 3: Use the algorithm to get a confidence score for the association fb_friends -> friends irl\n",
    "#    friends_irl_score(a, b) = total_ping_count(a, b)/rssi_total(a, b)\n",
    "#    Its up to us to define what we consider as \"friends\". Are persons a and b friends if they have met once over the study (30 days)? Are they friends if they have met twice?\n",
    "#    Its up to us to define it and then assume the definition for our own data mining study.\n",
    "# Step 4: Plot graphs\n",
    "# Step 5: Interpret the results"
   ]
  },
  {
   "cell_type": "code",
   "execution_count": 20,
   "metadata": {},
   "outputs": [
    {
     "ename": "AttributeError",
     "evalue": "'DataFrame' object has no attribute 'append'",
     "output_type": "error",
     "traceback": [
      "\u001b[0;31m---------------------------------------------------------------------------\u001b[0m",
      "\u001b[0;31mAttributeError\u001b[0m                            Traceback (most recent call last)",
      "\u001b[0;32m/tmp/ipykernel_12282/1567490140.py\u001b[0m in \u001b[0;36m?\u001b[0;34m()\u001b[0m\n\u001b[1;32m     46\u001b[0m         \u001b[0;31m# Calculate the friendship score\u001b[0m\u001b[0;34m\u001b[0m\u001b[0;34m\u001b[0m\u001b[0m\n\u001b[1;32m     47\u001b[0m         \u001b[0mscore\u001b[0m \u001b[0;34m=\u001b[0m \u001b[0mfriends_irl_score\u001b[0m\u001b[0;34m(\u001b[0m\u001b[0ma\u001b[0m\u001b[0;34m,\u001b[0m \u001b[0mb\u001b[0m\u001b[0;34m)\u001b[0m\u001b[0;34m\u001b[0m\u001b[0;34m\u001b[0m\u001b[0m\n\u001b[1;32m     48\u001b[0m \u001b[0;34m\u001b[0m\u001b[0m\n\u001b[1;32m     49\u001b[0m         \u001b[0;31m# Append the score to the DataFrame\u001b[0m\u001b[0;34m\u001b[0m\u001b[0;34m\u001b[0m\u001b[0m\n\u001b[0;32m---> 50\u001b[0;31m         \u001b[0mdata\u001b[0m \u001b[0;34m=\u001b[0m \u001b[0mdata\u001b[0m\u001b[0;34m.\u001b[0m\u001b[0mappend\u001b[0m\u001b[0;34m(\u001b[0m\u001b[0;34m{\u001b[0m\u001b[0;34m'a'\u001b[0m\u001b[0;34m:\u001b[0m \u001b[0ma\u001b[0m\u001b[0;34m,\u001b[0m \u001b[0;34m'b'\u001b[0m\u001b[0;34m:\u001b[0m \u001b[0mb\u001b[0m\u001b[0;34m,\u001b[0m \u001b[0;34m'score'\u001b[0m\u001b[0;34m:\u001b[0m \u001b[0mscore\u001b[0m\u001b[0;34m}\u001b[0m\u001b[0;34m,\u001b[0m \u001b[0mignore_index\u001b[0m\u001b[0;34m=\u001b[0m\u001b[0;32mTrue\u001b[0m\u001b[0;34m)\u001b[0m\u001b[0;34m\u001b[0m\u001b[0;34m\u001b[0m\u001b[0m\n\u001b[0m\u001b[1;32m     51\u001b[0m \u001b[0;34m\u001b[0m\u001b[0m\n\u001b[1;32m     52\u001b[0m \u001b[0;31m# Save the DataFrame to a CSV file\u001b[0m\u001b[0;34m\u001b[0m\u001b[0;34m\u001b[0m\u001b[0m\n\u001b[1;32m     53\u001b[0m \u001b[0mdata\u001b[0m\u001b[0;34m.\u001b[0m\u001b[0mto_csv\u001b[0m\u001b[0;34m(\u001b[0m\u001b[0;34m\"friendscore.csv\"\u001b[0m\u001b[0;34m,\u001b[0m \u001b[0mindex\u001b[0m\u001b[0;34m=\u001b[0m\u001b[0;32mFalse\u001b[0m\u001b[0;34m)\u001b[0m\u001b[0;34m\u001b[0m\u001b[0;34m\u001b[0m\u001b[0m\n",
      "\u001b[0;32m/usr/lib/python3/dist-packages/pandas/core/generic.py\u001b[0m in \u001b[0;36m?\u001b[0;34m(self, name)\u001b[0m\n\u001b[1;32m   6200\u001b[0m             \u001b[0;32mand\u001b[0m \u001b[0mname\u001b[0m \u001b[0;32mnot\u001b[0m \u001b[0;32min\u001b[0m \u001b[0mself\u001b[0m\u001b[0;34m.\u001b[0m\u001b[0m_accessors\u001b[0m\u001b[0;34m\u001b[0m\u001b[0;34m\u001b[0m\u001b[0m\n\u001b[1;32m   6201\u001b[0m             \u001b[0;32mand\u001b[0m \u001b[0mself\u001b[0m\u001b[0;34m.\u001b[0m\u001b[0m_info_axis\u001b[0m\u001b[0;34m.\u001b[0m\u001b[0m_can_hold_identifiers_and_holds_name\u001b[0m\u001b[0;34m(\u001b[0m\u001b[0mname\u001b[0m\u001b[0;34m)\u001b[0m\u001b[0;34m\u001b[0m\u001b[0;34m\u001b[0m\u001b[0m\n\u001b[1;32m   6202\u001b[0m         \u001b[0;34m)\u001b[0m\u001b[0;34m:\u001b[0m\u001b[0;34m\u001b[0m\u001b[0;34m\u001b[0m\u001b[0m\n\u001b[1;32m   6203\u001b[0m             \u001b[0;32mreturn\u001b[0m \u001b[0mself\u001b[0m\u001b[0;34m[\u001b[0m\u001b[0mname\u001b[0m\u001b[0;34m]\u001b[0m\u001b[0;34m\u001b[0m\u001b[0;34m\u001b[0m\u001b[0m\n\u001b[0;32m-> 6204\u001b[0;31m         \u001b[0;32mreturn\u001b[0m \u001b[0mobject\u001b[0m\u001b[0;34m.\u001b[0m\u001b[0m__getattribute__\u001b[0m\u001b[0;34m(\u001b[0m\u001b[0mself\u001b[0m\u001b[0;34m,\u001b[0m \u001b[0mname\u001b[0m\u001b[0;34m)\u001b[0m\u001b[0;34m\u001b[0m\u001b[0;34m\u001b[0m\u001b[0m\n\u001b[0m",
      "\u001b[0;31mAttributeError\u001b[0m: 'DataFrame' object has no attribute 'append'"
     ]
    }
   ],
   "source": [
    "import matplotlib.pyplot as plt\n",
    "import pandas as pd\n",
    "\n",
    "# Step 1\n",
    "fb_data = pd.read_csv('copenhagen-data/fb_friends.csv')\n",
    "bt_data = pd.read_csv('copenhagen-data/bt_symmetric.csv')\n",
    "gd_data = pd.read_csv('copenhagen-data/genders.csv')\n",
    "\n",
    "# Step 2\n",
    "# drope empty scans\n",
    "bt_data = bt_data[(bt_data.user_b != -1) & (bt_data.rssi != 0)]\n",
    "# drop non-experiment devices\n",
    "bt_data = bt_data[bt_data.user_b != -2]\n",
    "\n",
    "# Step 3\n",
    "# if user_a and user_b are real (they are defined in the dataset)\n",
    "# then return the friendship score\n",
    "# otherwise return None. Since they are not real\n",
    "def friends_irl_score(a, b):\n",
    "    # Filter the data for the given users `a` and `b`\n",
    "    filtered_data = bt_data[(bt_data.user_a == a) & (bt_data.user_b == b)]\n",
    "    \n",
    "    # Check if there is any matching data\n",
    "    if filtered_data.empty:\n",
    "        return 0\n",
    "    \n",
    "    # Calculate the total ping count and RSSI sum\n",
    "    total_ping_count = len(filtered_data)\n",
    "    rssi_total = filtered_data.rssi.sum()\n",
    "    \n",
    "    # We assume that rssi_total can never be 0\n",
    "    if rssi_total == 0:\n",
    "        return 0\n",
    "    \n",
    "    # Calculate and return the friendship score\n",
    "    return total_ping_count / rssi_total\n",
    "\n",
    "persons_a = set(bt_data[\"user_a\"])\n",
    "persons_b = set(bt_data[\"user_b\"])\n",
    "\n",
    "# Create a list to store the new rows\n",
    "rows = []\n",
    "\n",
    "# Populate the list with friendship scores\n",
    "for a in persons_a:\n",
    "    for b in persons_b:\n",
    "        # Calculate the friendship score\n",
    "        score = friends_irl_score(a, b)\n",
    "        \n",
    "        # Store the row data in a dictionary\n",
    "        rows.append({'a': a, 'b': b, 'score': score})\n",
    "\n",
    "# Convert the list of rows to a DataFrame\n",
    "data = pd.DataFrame(rows)\n",
    "\n",
    "# Save the DataFrame to a CSV file\n",
    "data.to_csv(\"friendscore.csv\", index=False)\n",
    "\n",
    "#plt.scatter(bt_data[\"sw\"], bt_data[\"sl\"], c=kmeans.labels_, cmap='viridis')\n",
    "#plt.show()\n"
   ]
  }
 ],
 "metadata": {
  "kernelspec": {
   "display_name": "Python 3",
   "language": "python",
   "name": "python3"
  },
  "language_info": {
   "codemirror_mode": {
    "name": "ipython",
    "version": 3
   },
   "file_extension": ".py",
   "mimetype": "text/x-python",
   "name": "python",
   "nbconvert_exporter": "python",
   "pygments_lexer": "ipython3",
   "version": "3.12.3"
  }
 },
 "nbformat": 4,
 "nbformat_minor": 2
}
