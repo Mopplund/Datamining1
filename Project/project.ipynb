{
 "cells": [
  {
   "cell_type": "code",
   "execution_count": null,
   "metadata": {},
   "outputs": [],
   "source": [
    "# Step 1: load fb_friends and bt_symmetric csv files\n",
    "# Step 2: Preprocess, drop the rows in bt_symmetric containing:\n",
    "#    * Empty scans are marked with user B = -1 and RSSI = 0\n",
    "#    * Scans of devices outside of the experiment are marked with user B = -2. All non-experiment devices are given the same ID.\n",
    "# Step 3: Use the algorithm to get a confidence score for the association fb_friends -> friends irl\n",
    "#    friends_irl_score(a, b) = total_ping_count(a, b)/rssi_total(a, b)\n",
    "#    Its up to us to define what we consider as \"friends\". Are persons a and b friends if they have met once over the study (30 days)? Are they friends if they have met twice?\n",
    "#    Its up to us to define it and then assume the definition for our own data mining study.\n",
    "# Step 4: Plot graphs\n",
    "# Step 5: Interpret the results"
   ]
  },
  {
   "cell_type": "code",
   "execution_count": 21,
   "metadata": {},
   "outputs": [],
   "source": [
    "import matplotlib.pyplot as plt\n",
    "import pandas as pd\n",
    "\n",
    "# Step 1\n",
    "fb_data = pd.read_csv('copenhagen-data/fb_friends.csv')\n",
    "bt_data = pd.read_csv('copenhagen-data/bt_symmetric.csv')\n",
    "gd_data = pd.read_csv('copenhagen-data/genders.csv')\n",
    "\n",
    "# Step 2\n",
    "# drope empty scans\n",
    "bt_data = bt_data[(bt_data.user_b != -1) & (bt_data.rssi != 0)]\n",
    "# drop non-experiment devices\n",
    "bt_data = bt_data[bt_data.user_b != -2]\n",
    "\n",
    "# Step 3\n",
    "# if user_a and user_b are real (they are defined in the dataset)\n",
    "# then return the friendship score\n",
    "# otherwise return None. Since they are not real\n",
    "def friends_irl_score(a, b):\n",
    "    # Filter the data for the given users `a` and `b`\n",
    "    filtered_data = bt_data[(bt_data.user_a == a) & (bt_data.user_b == b)]\n",
    "    \n",
    "    # Check if there is any matching data\n",
    "    if filtered_data.empty:\n",
    "        return 0\n",
    "    \n",
    "    # Calculate the total ping count and RSSI sum\n",
    "    total_ping_count = len(filtered_data)\n",
    "    rssi_total = filtered_data.rssi.sum()\n",
    "    \n",
    "    # We assume that rssi_total can never be 0\n",
    "    if rssi_total == 0:\n",
    "        return 0\n",
    "    \n",
    "    # Calculate and return the friendship score\n",
    "    return total_ping_count / rssi_total\n",
    "\n",
    "persons_a = set(bt_data[\"user_a\"])\n",
    "persons_b = set(bt_data[\"user_b\"])\n",
    "\n",
    "# Create a list to store the new rows\n",
    "rows = []\n",
    "\n",
    "# Populate the list with friendship scores\n",
    "for a in persons_a:\n",
    "    for b in persons_b:\n",
    "        # Calculate the friendship score\n",
    "        score = friends_irl_score(a, b)\n",
    "        \n",
    "        # Store the row data in a dictionary\n",
    "        rows.append({'a': a, 'b': b, 'score': score})\n",
    "\n",
    "# Convert the list of rows to a DataFrame\n",
    "data = pd.DataFrame(rows)\n",
    "\n",
    "# Save the DataFrame to a CSV file\n",
    "data.to_csv(\"friendscore.csv\", index=False)\n",
    "\n",
    "#plt.scatter(bt_data[\"sw\"], bt_data[\"sl\"], c=kmeans.labels_, cmap='viridis')\n",
    "#plt.show()\n"
   ]
  },
  {
   "cell_type": "code",
   "execution_count": 2,
   "metadata": {},
   "outputs": [
    {
     "ename": "TypeError",
     "evalue": "DataFrame.pivot() takes 1 positional argument but 4 were given",
     "output_type": "error",
     "traceback": [
      "\u001b[0;31m---------------------------------------------------------------------------\u001b[0m",
      "\u001b[0;31mTypeError\u001b[0m                                 Traceback (most recent call last)",
      "Cell \u001b[0;32mIn[2], line 16\u001b[0m\n\u001b[1;32m     13\u001b[0m fsc_data[\u001b[38;5;124m'\u001b[39m\u001b[38;5;124mscore\u001b[39m\u001b[38;5;124m'\u001b[39m] \u001b[38;5;241m=\u001b[39m fsc_data[\u001b[38;5;124m'\u001b[39m\u001b[38;5;124mscore\u001b[39m\u001b[38;5;124m'\u001b[39m] \u001b[38;5;241m*\u001b[39m \u001b[38;5;241m10000000\u001b[39m  \u001b[38;5;66;03m# Multiply by 100 to bring values into a clearer range\u001b[39;00m\n\u001b[1;32m     15\u001b[0m \u001b[38;5;66;03m# Step 3: Pivot data to create a matrix-like format for the heatmap\u001b[39;00m\n\u001b[0;32m---> 16\u001b[0m pivot_table \u001b[38;5;241m=\u001b[39m \u001b[43mfsc_data\u001b[49m\u001b[38;5;241;43m.\u001b[39;49m\u001b[43mpivot\u001b[49m\u001b[43m(\u001b[49m\u001b[38;5;124;43m'\u001b[39;49m\u001b[38;5;124;43ma\u001b[39;49m\u001b[38;5;124;43m'\u001b[39;49m\u001b[43m,\u001b[49m\u001b[43m \u001b[49m\u001b[38;5;124;43m'\u001b[39;49m\u001b[38;5;124;43mb\u001b[39;49m\u001b[38;5;124;43m'\u001b[39;49m\u001b[43m,\u001b[49m\u001b[43m \u001b[49m\u001b[38;5;124;43m'\u001b[39;49m\u001b[38;5;124;43mscore\u001b[39;49m\u001b[38;5;124;43m'\u001b[39;49m\u001b[43m)\u001b[49m\n\u001b[1;32m     18\u001b[0m \u001b[38;5;66;03m# Step 4: Plotting heatmap\u001b[39;00m\n\u001b[1;32m     19\u001b[0m plt\u001b[38;5;241m.\u001b[39mfigure(figsize\u001b[38;5;241m=\u001b[39m(\u001b[38;5;241m8\u001b[39m, \u001b[38;5;241m6\u001b[39m))\n",
      "\u001b[0;31mTypeError\u001b[0m: DataFrame.pivot() takes 1 positional argument but 4 were given"
     ]
    }
   ],
   "source": [
    "import matplotlib.pyplot as plt\n",
    "import pandas as pd\n",
    "import seaborn as sns\n",
    "\n",
    "# Step 1: Read in the friendship score data\n",
    "fsc_data = pd.read_csv('friendscore.csv')\n",
    "\n",
    "# Step 2: Convert the 'score' column to absolute values to ensure all scores are positive\n",
    "fsc_data['score'] = fsc_data['score'].abs()\n",
    "\n",
    "# Optional: Scale up the score to emphasize small differences\n",
    "fsc_data['score'] = fsc_data['score'] * 10000000  # Multiply by a factor to make values more readable in heatmap\n",
    "\n",
    "# Step 3: Pivot data to create a matrix-like format for the heatmap\n",
    "pivot_table = fsc_data.pivot(index='a', columns='b', values='score')\n",
    "\n",
    "# Step 4: Plotting heatmap\n",
    "plt.figure(figsize=(8, 6))\n",
    "sns.heatmap(pivot_table, annot=True, cmap=\"YlGnBu\", cbar_kws={'label': 'Friendship Score (Scaled)'})\n",
    "plt.title('Friendship Score Heatmap (Scaled)')\n",
    "plt.xlabel('User B')\n",
    "plt.ylabel('User A')\n",
    "plt.show()\n",
    "\n"
   ]
  }
 ],
 "metadata": {
  "kernelspec": {
   "display_name": "mining",
   "language": "python",
   "name": "python3"
  },
  "language_info": {
   "codemirror_mode": {
    "name": "ipython",
    "version": 3
   },
   "file_extension": ".py",
   "mimetype": "text/x-python",
   "name": "python",
   "nbconvert_exporter": "python",
   "pygments_lexer": "ipython3",
   "version": "3.12.3"
  }
 },
 "nbformat": 4,
 "nbformat_minor": 2
}
