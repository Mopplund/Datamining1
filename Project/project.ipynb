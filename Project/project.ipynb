{
 "cells": [
  {
   "cell_type": "code",
   "execution_count": null,
   "metadata": {
    "vscode": {
     "languageId": "plaintext"
    }
   },
   "outputs": [],
   "source": [
    "# Step 1: load fb_friends and bt_symmetric csv files\n",
    "# Step 2: Preprocess, drop the rows in bt_symmetric containing:\n",
    "#    * Empty scans are marked with user B = -1 and RSSI = 0\n",
    "#    * Scans of devices outside of the experiment are marked with user B = -2. All non-experiment devices are given the same ID.\n",
    "# Step 3: Use the algorithm to get a confidence score for the association fb_friends -> friends irl\n",
    "    friends_irl_score(a, b) = total_ping_count(a, b)/rssi_total(a, b)\n",
    "    Its up to us to define what we consider as \"friends\". Are persons a and b friends if they have met once over the study (30 days)? Are they friends if they have met twice?\n",
    "    Its up to us to define it and then assume the definition for our own data mining study.\n",
    "# Step 4: Plot graphs\n",
    "# Step 5: Interpret the results"
   ]
  }
 ],
 "metadata": {
  "language_info": {
   "name": "python"
  }
 },
 "nbformat": 4,
 "nbformat_minor": 2
}
