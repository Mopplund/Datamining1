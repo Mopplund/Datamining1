{
 "cells": [
  {
   "cell_type": "code",
   "execution_count": 205,
   "id": "2b5bbd57",
   "metadata": {},
   "outputs": [],
   "source": [
    "## TASK 2:\n",
    "# 1. A min-max rescaling\n",
    "#data2 = data;\n",
    "data[['pl','pw','sl','sw']] = MinMaxScaler((0, 1)).fit_transform(data[['pl','pw','sl','sw']])\n",
    "# data[['pl','pw','sl','sw']] = normalize(data[['pl','pw','sl','sw']])\n",
    "\n",
    "\n",
    "# 2. Detect Outliers\n",
    "#sl_z = stats.zscore(data['sl'])\n",
    "#print(np.sort(stats.zscore(data['sl'])))\n",
    "\n",
    "# 3. Filter out the identified outliers\n",
    "#data = data[np.abs(sl_z) < 2]\n",
    "\n",
    "\n",
    "lof = LocalOutlierFactor(n_neighbors=5)\n",
    "\n",
    "labels = lof.fit_predict(data[['pl','pw','sl','sw']])\n",
    "scores = lof.negative_outlier_factor_\n",
    "data = data[labels == 1]\n"
   ]
  },
  {
   "cell_type": "code",
   "execution_count": 206,
   "id": "105cd059d6e642c6",
   "metadata": {
    "collapsed": false
   },
   "outputs": [],
   "source": [
    "## TASK 1:\n",
    "kmeans = KMeans(n_clusters=3)\n",
    "kmeans = kmeans.fit(data[['pl','pw','sl','sw']])\n",
    "\n",
    "print(Counter(kmeans.labels_).keys())\n",
    "print(Counter(kmeans.labels_).values())\n",
    "print(kmeans.cluster_centers_)\n",
    "\n",
    "plt.scatter(data[\"sw\"], data[\"sl\"], c=kmeans.labels_, cmap='viridis')\n",
    "plt.show()\n"
   ]
  },
  {
   "cell_type": "code",
   "execution_count": 209,
   "metadata": {},
   "outputs": [
    {
     "name": "stdout",
     "output_type": "stream",
     "text": [
      "Clusters found: 1\n"
     ]
    },
    {
     "data": {
      "image/png": "[encoded data removed]",
      "text/plain": [
       "<Figure size 640x480 with 1 Axes>"
      ]
     },
     "metadata": {},
     "output_type": "display_data"
    }
   ],
   "source": [
    "## TASK 5:\n",
    "clustering = DBSCAN(eps=284, min_samples=5).fit(data[['pl','pw','sl','sw']])\n",
    "# 1. How many clusters does DB-SCAN find using eps=1, min_samples=5?\n",
    "print(f\"Clusters found: {len(Counter(clustering.labels_).keys())}\")\n",
    "# 2. Leaving min_samples unchanged (5), can you manually find a value for epsilon\n",
    "# leading to two clusters (plus noise)?\n",
    "def k_distances2(X,n):\n",
    "    neighbors = NearestNeighbors(n_neighbors=n)\n",
    "    neighbors_fit = neighbors.fit(X)\n",
    "    distances, indices = neighbors_fit.kneighbors(X)\n",
    "    return distances, indices\n",
    "\n",
    "# TODO: add your parameters here.\n",
    "# data -- your normalized dataset\n",
    "# k    -- k-th neighbour. By default, k=count(features)+1\n",
    "distances, indices = k_distances2(data[['pl','pw','sl','sw']], 5)\n",
    "distances = np.sort(distances, axis=0)\n",
    "distances = distances[:,1]\n",
    "plt.plot(distances)\n",
    "plt.show()"
   ]
  }
 ],
 "metadata": {
  "kernelspec": {
   "display_name": "Python 3",
   "language": "python",
   "name": "python3"
  },
  "language_info": {
   "codemirror_mode": {
    "name": "ipython",
    "version": 3
   },
   "file_extension": ".py",
   "mimetype": "text/x-python",
   "name": "python",
   "nbconvert_exporter": "python",
   "pygments_lexer": "ipython3",
   "version": "3.12.3"
  }
 },
 "nbformat": 4,
 "nbformat_minor": 5
}
